{
 "cells": [
  {
   "cell_type": "markdown",
   "metadata": {},
   "source": [
    "# Nested Function\n",
    "---\n",
    "\n",
    "Much like conditionals and iterations, we are allowed to have a _function inside a function_.\n",
    "\n",
    "## Example: Factors of a Number in a List"
   ]
  },
  {
   "cell_type": "code",
   "execution_count": 2,
   "metadata": {},
   "outputs": [
    {
     "name": "stdout",
     "output_type": "stream",
     "text": [
      "The factors of 12 are: [1, 2, 3, 4, 6, 12]\n"
     ]
    },
    {
     "ename": "NameError",
     "evalue": "name 'isDivisible' is not defined",
     "output_type": "error",
     "traceback": [
      "\u001b[0;31m---------------------------------------------------------------------------\u001b[0m",
      "\u001b[0;31mNameError\u001b[0m                                 Traceback (most recent call last)",
      "\u001b[0;32m<ipython-input-2-08757aa984a8>\u001b[0m in \u001b[0;36m<module>\u001b[0;34m\u001b[0m\n\u001b[1;32m     28\u001b[0m \u001b[0mprint\u001b[0m\u001b[0;34m(\u001b[0m\u001b[0;34m'The factors of 12 are:'\u001b[0m\u001b[0;34m,\u001b[0m \u001b[0mfactors_12\u001b[0m\u001b[0;34m)\u001b[0m\u001b[0;34m\u001b[0m\u001b[0;34m\u001b[0m\u001b[0m\n\u001b[1;32m     29\u001b[0m \u001b[0;34m\u001b[0m\u001b[0m\n\u001b[0;32m---> 30\u001b[0;31m \u001b[0mprint\u001b[0m\u001b[0;34m(\u001b[0m\u001b[0;34m'Is 12 divisible by 5?:'\u001b[0m\u001b[0;34m,\u001b[0m \u001b[0misDivisible\u001b[0m\u001b[0;34m(\u001b[0m\u001b[0;36m5\u001b[0m\u001b[0;34m)\u001b[0m\u001b[0;34m)\u001b[0m \u001b[0;31m# Should output an error\u001b[0m\u001b[0;34m\u001b[0m\u001b[0;34m\u001b[0m\u001b[0m\n\u001b[0m",
      "\u001b[0;31mNameError\u001b[0m: name 'isDivisible' is not defined"
     ]
    }
   ],
   "source": [
    "def factors(x):\n",
    "    ''' factors() return a list of factors for x\n",
    "    \n",
    "    arguments:\n",
    "    -- x : integer\n",
    "    \n",
    "    return\n",
    "    -- list\n",
    "    '''\n",
    "    \n",
    "    def isDivisible(num):\n",
    "        ''' isDivisible() checks if given num is a factor of x'''\n",
    "        \n",
    "        return x % num == 0\n",
    "    # end of inner function: isDivisible()\n",
    "    \n",
    "    \n",
    "    result = []\n",
    "    \n",
    "    for i in range(1, x+1):\n",
    "        if isDivisible(i):\n",
    "            result.append(i)\n",
    "    \n",
    "    return result\n",
    "# end of factors()\n",
    "\n",
    "factors_12 = factors(12)\n",
    "print('The factors of 12 are:', factors_12)\n",
    "\n",
    "print('Is 12 divisible by 5?:', isDivisible(5)) # Should output an error"
   ]
  },
  {
   "cell_type": "markdown",
   "metadata": {},
   "source": [
    "There are a lot to unpack here.\n",
    "\n",
    "1. We are allowed to define functions within a function\n",
    "2. Functions defined within a function can only be called by the parent function (the top most function) this is called a __local scope__.\n",
    "    - This is why we get an error when we try to call __isDivisible()__ outside of the function\n",
    "3. The __factors()__ function uses its own __isDivisible()__ function to check if a number is divisible by its own argument\n",
    "    - Any variable or argument from the parent function is reference able by its own inner functions\n",
    "    - This is why we can reference variable __x__ inside __isDivisible()__"
   ]
  }
 ],
 "metadata": {
  "kernelspec": {
   "display_name": "Python 3",
   "language": "python",
   "name": "python3"
  },
  "language_info": {
   "codemirror_mode": {
    "name": "ipython",
    "version": 3
   },
   "file_extension": ".py",
   "mimetype": "text/x-python",
   "name": "python",
   "nbconvert_exporter": "python",
   "pygments_lexer": "ipython3",
   "version": "3.8.2"
  }
 },
 "nbformat": 4,
 "nbformat_minor": 4
}
