{
 "cells": [
  {
   "cell_type": "markdown",
   "metadata": {},
   "source": [
    "# Functions in Python 3\n",
    "---\n",
    "\n",
    "- In Python 3, we are able to create custom functions that are much similar to the built-in functions we have encountered\n",
    "- These functions are callable and can output results to our liking\n",
    "- This allows us to organize our code when our projects become more complex\n",
    "- In this unit we will only cover introductory level content for functions (returning values, predetermined arguments, and nested functions).\n",
    "\n",
    "## What is a Function?\n",
    "\n",
    "__Function:__ a block of organized, reusable code that is usually used to perform single and related action.\n",
    "\n",
    "_Similar concepts: methods, subroutines and procedures_\n",
    "\n",
    "#### Mathematical Functions vs Programming Functions\n",
    "\n",
    "__Mathematical Function:__ Functions we learn in math classes, such as Grade 11 Functions, are by in nature following the laws of mathematics. These functions (Quadratic, Rational, Trignometric and Logarithmic to name a few) are all about relating an input to an output. They also must follow the these rules:\n",
    "1. One input must have only one output\n",
    "2. Multiple inputs are allowed to have same output\n",
    "\n",
    "__Programming Function:__ In computer science, a function is a self contained module of code. It is not restricted to the rules of mathematical function _unless you want it do be_.\n",
    "\n",
    "------\n",
    "\n",
    "## Mindset for writing Functions in Python\n",
    "\n",
    "1. __Clean Code:__ We want organize a solution to problem or a part of a problem into a single function\n",
    "2. __Algorithms:__ Without functions, we cannot express algorithms properly\n",
    "3. __Resuablility:__ Functions prevent us from repeating code you've written before\n",
    "4. __Single Serving:__ Functions prevent overloaded programs that look like spaghetti\n",
    "\n",
    "## Python Function Syntax"
   ]
  },
  {
   "cell_type": "code",
   "execution_count": 1,
   "metadata": {},
   "outputs": [],
   "source": [
    "def functionName(arg1, arg2, arg3):\n",
    "    ''' function docString: state purpose here\n",
    "    \n",
    "    arguments:\n",
    "    -- arg1 : explanation\n",
    "    -- arg2 : explanation\n",
    "    -- arg3 : explanation\n",
    "    \n",
    "    return:\n",
    "    -- value : explanation\n",
    "    '''\n",
    "    \n",
    "    # write code inside the function here\n",
    "    \n",
    "    return value\n",
    "# end of functionName()"
   ]
  },
  {
   "cell_type": "markdown",
   "metadata": {},
   "source": [
    "- ```def``` is the keyword designated to help us __define__ a custom function\n",
    "- a function must have a callable name ... it is recommended to use name that is not [built-in function](https://docs.python.org/3/library/functions.html) or [keywords](https://www.tutorialspoint.com/What-are-Reserved-Keywords-in-Python) for Python.\n",
    "- ```(arg1, arg2, arg3):``` This is state our function inputs. The number of inputs a function require is up to you. A proper definition for function inputs are called __arguments__.\n",
    "- We can also write a descriptor for our function by using triple single(') or double(\") quotation marks\n",
    "- ```return``` is a keyword designed for functions. When a function is done executing its code, we can use __return__ to help us grab the result of our function\n",
    "\n",
    "__Let's create an example function for the area of a circle.__"
   ]
  },
  {
   "cell_type": "code",
   "execution_count": 6,
   "metadata": {},
   "outputs": [
    {
     "name": "stdout",
     "output_type": "stream",
     "text": [
      "The area of my circle is 113.0972 units squared.\n",
      "The area of my circle with pi of 3.14 is 113.0400 units squared.\n"
     ]
    }
   ],
   "source": [
    "def areaCircle(radius, pi):\n",
    "    ''' areaCirlce() is a function that calculates the area of a circle\n",
    "    \n",
    "    arguments:\n",
    "    -- radius : floating point value\n",
    "    -- pi : floating point value\n",
    "    \n",
    "    return:\n",
    "    -- area : the resulting area from the given arguments\n",
    "    '''\n",
    "    \n",
    "    area = pi * (radius ** 2)\n",
    "    \n",
    "    return area\n",
    "# end of areaCircle\n",
    "\n",
    "my_radius = 6\n",
    "pi = 3.14159\n",
    "\n",
    "my_circle_area = areaCircle(my_radius, pi)\n",
    "my_circle_area2 = areaCircle(my_radius, 3.14)\n",
    " \n",
    "print('The area of my circle is %.4f units squared.' % my_circle_area)\n",
    "print('The area of my circle with pi of 3.14 is %.4f units squared.' % my_circle_area2)"
   ]
  },
  {
   "cell_type": "markdown",
   "metadata": {},
   "source": [
    "## Explanation\n",
    "\n",
    "1. We defined a function called _areaCircle_\n",
    "2. There are 2 arguments\n",
    "    - radius\n",
    "    - pi\n",
    "3. There is a docstring trapped inside triple single quotation marks\n",
    "4. Variable area inside the function is calculated by using the argument variables for the function\n",
    "5. We use the __return__ keyword to help us grab the resulting variable called: _area_\n",
    "6. After the function has been defined we created our new variables of __my_radius__ and __pi__\n",
    "    - please note that the new variable pi = 3.14159 does not conflict with the function's argument variable\n",
    "    - We can use these new variables to be the explicit arguments for when we call the function\n",
    "7. We calculated the result for two variables: __my_circle_area__ and __my_circle_area2__ by assigning it to the result of us calling our defined function\n",
    "    - When the function __areaCircle__ is called, it will take the given arguments to calculate the function's area variable\n",
    "    - Once the calculation is finished, it will be __returned__ back to the variable and assigned with the result"
   ]
  }
 ],
 "metadata": {
  "kernelspec": {
   "display_name": "Python 3",
   "language": "python",
   "name": "python3"
  },
  "language_info": {
   "codemirror_mode": {
    "name": "ipython",
    "version": 3
   },
   "file_extension": ".py",
   "mimetype": "text/x-python",
   "name": "python",
   "nbconvert_exporter": "python",
   "pygments_lexer": "ipython3",
   "version": "3.8.2"
  }
 },
 "nbformat": 4,
 "nbformat_minor": 4
}
