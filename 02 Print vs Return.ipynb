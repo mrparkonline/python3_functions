{
 "cells": [
  {
   "cell_type": "markdown",
   "metadata": {},
   "source": [
    "# Print vs Return in Functions\n",
    "---\n",
    "\n",
    "In this lesson we will be examining the differences between using a ```print()``` statement and a ```return``` statement\n",
    "\n",
    "### Example Function: Average of Integers in a List"
   ]
  },
  {
   "cell_type": "code",
   "execution_count": 4,
   "metadata": {},
   "outputs": [
    {
     "name": "stdout",
     "output_type": "stream",
     "text": [
      "Executing avereagePrint1():\n",
      "The average of the given list of values is: 42.416666666666664\n",
      "Executing avereagePrint2():\n",
      "-------------------------\n",
      "Setting variables result1:\n",
      "The average of the given list of values is: 42.416666666666664\n",
      "Setting variables result2:\n",
      "-------------------------\n",
      "Variable result1: None\n",
      "Variable result2: 42.416666666666664\n"
     ]
    }
   ],
   "source": [
    "def averagePrint1(array):\n",
    "    ''' averagePrint1() outputs the total average of all the integers in a list\n",
    "    \n",
    "    argument:\n",
    "    -- array : a list of integers\n",
    "    '''\n",
    "    \n",
    "    total_sum = sum(array)\n",
    "    length = len(array)\n",
    "    average = total_sum / length\n",
    "    \n",
    "    print('The average of the given list of values is:', average)\n",
    "# end of averagePrint1\n",
    "\n",
    "def averagePrint2(array):\n",
    "    ''' averagePrint() returns the total average of all the integers in a list\n",
    "    \n",
    "    argument:\n",
    "    -- array : a list of integers\n",
    "    '''\n",
    "    \n",
    "    total_sum = sum(array)\n",
    "    length = len(array)\n",
    "    average = total_sum / length\n",
    "    \n",
    "    return average\n",
    "# end of averagePrint2\n",
    "\n",
    "# Start of the actual program\n",
    "\n",
    "values = [96, 42, 55, 4, 12, 14, 67, 25, 37, 82, 62, 13]\n",
    "\n",
    "print('Executing avereagePrint1():')\n",
    "averagePrint1(values)\n",
    "print('Executing avereagePrint2():')\n",
    "averagePrint2(values)\n",
    "print('-'*25)\n",
    "\n",
    "print('Setting variables result1:')\n",
    "result1 = averagePrint1(values)\n",
    "print('Setting variables result2:')\n",
    "result2 = averagePrint2(values)\n",
    "\n",
    "print('-'*25)\n",
    "print('Variable result1:', result1)\n",
    "print('Variable result2:', result2)"
   ]
  },
  {
   "cell_type": "markdown",
   "metadata": {},
   "source": [
    "## ```print()``` vs ```return``` in our example\n",
    "\n",
    "1) Calling the function without variable assignment:\n",
    "\n",
    "When we first called ```averagePrint1(values)```, it outputted the message with the result\n",
    "\n",
    "When we first called ```averagePrint2(values)```, it did not output anything\n",
    "\n",
    "- This is the difference of using print() and return: print() outputs a message to the console whereas return does not\n",
    "\n",
    "2) Assigning variables with the result of a function call:\n",
    "\n",
    "When we output the variable ```result1``` the value is ```None```.\n",
    "\n",
    "When we output the variable ```result2``` the value is the resulting average.\n",
    "\n",
    "- This happens because the function: __averagePrint1__ does not return any value; therefore, variable __result1__ cannot be assigned with the result from said function\n",
    "\n",
    "- The function, __averagePrint2__, returns the __average__ variable; therefore, it can be used for variable assignment\n",
    "\n",
    "__NOTE:__ 9 out of 10 times your functions should and will return a value"
   ]
  }
 ],
 "metadata": {
  "kernelspec": {
   "display_name": "Python 3",
   "language": "python",
   "name": "python3"
  },
  "language_info": {
   "codemirror_mode": {
    "name": "ipython",
    "version": 3
   },
   "file_extension": ".py",
   "mimetype": "text/x-python",
   "name": "python",
   "nbconvert_exporter": "python",
   "pygments_lexer": "ipython3",
   "version": "3.8.2"
  }
 },
 "nbformat": 4,
 "nbformat_minor": 4
}
