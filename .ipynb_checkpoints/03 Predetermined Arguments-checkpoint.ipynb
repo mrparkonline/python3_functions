{
 "cells": [
  {
   "cell_type": "markdown",
   "metadata": {},
   "source": [
    "# Predetermined Arguments in a Function\n",
    "---\n",
    "\n",
    "We can set predetermined arguments when creating a functions to create versatility and complexity within our function.\n",
    "\n",
    "## Example: Distance between two points or the origin"
   ]
  },
  {
   "cell_type": "code",
   "execution_count": 4,
   "metadata": {},
   "outputs": [
    {
     "name": "stdout",
     "output_type": "stream",
     "text": [
      "Distance from (3,4) to (10,13) is 11.401754 units.\n",
      "Distance from (5,12) from the origin is 13.000000 units.\n",
      "Distance from (1,1) to (5,5) is 5.656854 units\n"
     ]
    }
   ],
   "source": [
    "def distance(x, y, a=0,b=0):\n",
    "    ''' distance() calculates the distance between point(x,y) and point(a,b).\n",
    "    If point(a,b) is not specified, it will calculate the distance from the origin to point(x,y)\n",
    "    \n",
    "    Distance Formula: https://www.khanacademy.org/math/geometry/hs-geo-analytic-geometry/hs-geo-distance-and-midpoints/v/distance-formula\n",
    "    \n",
    "    arguments:\n",
    "    -- x : numeric\n",
    "    -- y : numeric\n",
    "    -- a : numeric\n",
    "    -- b : numeric\n",
    "    \n",
    "    return\n",
    "    -- distance in units\n",
    "    '''\n",
    "    \n",
    "    delta_x = a - x\n",
    "    delta_y = b - y\n",
    "    \n",
    "    result = (delta_x ** 2 + delta_y ** 2) ** 0.5\n",
    "    \n",
    "    return result\n",
    "# end of distance()\n",
    "\n",
    "print('Distance from (3,4) to (10,13) is %f units.' % distance(3, 4, 10, 13))\n",
    "print('Distance from (5,12) from the origin is %f units.' % distance(5,12))\n",
    "print('Distance from (1,1) to (5,5) is %f units' % distance(x=1, y=1, a=5, b=5))"
   ]
  },
  {
   "cell_type": "markdown",
   "metadata": {},
   "source": [
    "__Explantion__\n",
    "\n",
    "- Notice that when we first define the function, the last two arguments are assigned with values; This is called _predetermined arguments_\n",
    "    - In a scenario when the user of the function doesn't set these arguments, the function itself gives value to the missing arguments\n",
    "- The predetermined arguments are changeable evidently by our first distance() function call\n",
    "- We can also explicitly set each individual argument by the name of the arguments from the function (see the 3rd function call)\n",
    "\n",
    "__Rules:__\n",
    "\n",
    "1. The required arguments (arguments without predetermined values) must be defined first in the function\n",
    "2. The predetermined arguments must be then defined after"
   ]
  }
 ],
 "metadata": {
  "kernelspec": {
   "display_name": "Python 3",
   "language": "python",
   "name": "python3"
  },
  "language_info": {
   "codemirror_mode": {
    "name": "ipython",
    "version": 3
   },
   "file_extension": ".py",
   "mimetype": "text/x-python",
   "name": "python",
   "nbconvert_exporter": "python",
   "pygments_lexer": "ipython3",
   "version": "3.8.2"
  }
 },
 "nbformat": 4,
 "nbformat_minor": 4
}
